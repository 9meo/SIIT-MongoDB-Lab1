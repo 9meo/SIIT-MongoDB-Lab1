{
 "cells": [
  {
   "cell_type": "code",
   "execution_count": null,
   "metadata": {},
   "outputs": [],
   "source": [
    "from pymongo import MongoClient"
   ]
  },
  {
   "cell_type": "code",
   "execution_count": null,
   "metadata": {},
   "outputs": [],
   "source": [
    "from random import randint\n",
    "from pprint import pprint"
   ]
  },
  {
   "cell_type": "code",
   "execution_count": null,
   "metadata": {},
   "outputs": [],
   "source": [
    "client = MongoClient(port=27017)\n",
    "db=client.business"
   ]
  },
  {
   "cell_type": "code",
   "execution_count": null,
   "metadata": {},
   "outputs": [],
   "source": [
    "names = ['Kitchen','Animal','State', 'Tastey', 'Big','City','Fish', 'Pizza','Goat', 'Salty','Sandwich','Lazy', 'Fun']\n",
    "company_type = ['LLC','Inc','Company','Corporation']\n",
    "company_cuisine = ['Pizza', 'Bar Food', 'Fast Food', 'Italian', 'Mexican', 'American', 'Sushi Bar', 'Vegetarian']\n",
    "for x in range(1, 501):\n",
    "    business = {\n",
    "        'name' : names[randint(0, (len(names)-1))] + ' ' + names[randint(0, (len(names)-1))]  + ' ' + company_type[randint(0, (len(company_type)-1))],\n",
    "        'rating' : randint(1, 5),\n",
    "        'cuisine' : company_cuisine[randint(0, (len(company_cuisine)-1))] \n",
    "    }\n",
    "    #Step 3: Insert business object directly into MongoDB via isnert_one\n",
    "    result=db.reviews.insert_one(business)\n",
    "    #Step 4: Print to the console the ObjectID of the new document\n",
    "    print('Created {0} of 500 as {1}'.format(x,result.inserted_id))"
   ]
  },
  {
   "cell_type": "code",
   "execution_count": null,
   "metadata": {},
   "outputs": [],
   "source": [
    "fivestar = db.reviews.find_one({'rating': 5})\n",
    "print(fivestar)"
   ]
  },
  {
   "cell_type": "code",
   "execution_count": null,
   "metadata": {},
   "outputs": [],
   "source": [
    "fivestarcount = db.reviews.count_documents({'rating': 5})\n",
    "print(fivestarcount)"
   ]
  },
  {
   "cell_type": "code",
   "execution_count": null,
   "metadata": {},
   "outputs": [],
   "source": [
    "stargroup=db.reviews.aggregate(\n",
    "# The Aggregation Pipeline is defined as an array of different operations\n",
    "[\n",
    "# The first stage in this pipe is to group data\n",
    "{ '$group':\n",
    "    { '_id': \"$rating\",\n",
    "     \"count\" : \n",
    "                 { '$sum' :1 }\n",
    "    }\n",
    "},\n",
    "# The second stage in this pipe is to sort the data\n",
    "{\"$sort\":  { \"_id\":1}\n",
    "}\n",
    "# Close the array with the ] tag             \n",
    "] )"
   ]
  },
  {
   "cell_type": "code",
   "execution_count": null,
   "metadata": {},
   "outputs": [],
   "source": [
    "for group in stargroup:\n",
    "    print(group)"
   ]
  },
  {
   "cell_type": "code",
   "execution_count": null,
   "metadata": {},
   "outputs": [],
   "source": [
    "ASingleReview = db.reviews.find_one({})\n"
   ]
  },
  {
   "cell_type": "code",
   "execution_count": null,
   "metadata": {},
   "outputs": [],
   "source": [
    "print('A sample document:')\n",
    "pprint(ASingleReview)\n"
   ]
  },
  {
   "cell_type": "code",
   "execution_count": null,
   "metadata": {},
   "outputs": [],
   "source": [
    "result = db.reviews.update_one({'_id' : ASingleReview.get('_id') }, {'$inc': {'likes': 1}})\n",
    "print('Number of documents modified : ' + str(result.modified_count))\n"
   ]
  },
  {
   "cell_type": "code",
   "execution_count": null,
   "metadata": {},
   "outputs": [],
   "source": [
    "UpdatedDocument = db.reviews.find_one({'_id':ASingleReview.get('_id')})\n",
    "print('The updated document:')\n",
    "pprint(UpdatedDocument)"
   ]
  },
  {
   "cell_type": "code",
   "execution_count": null,
   "metadata": {},
   "outputs": [],
   "source": [
    "result = db.reviews.delete_many({'cuisine': 'Bar Food'})\n",
    "\n"
   ]
  },
  {
   "cell_type": "code",
   "execution_count": null,
   "metadata": {},
   "outputs": [],
   "source": [
    "result.deleted_count"
   ]
  },
  {
   "cell_type": "code",
   "execution_count": null,
   "metadata": {},
   "outputs": [],
   "source": [
    "cuisinegroup=db.reviews.aggregate(\n",
    "# The Aggregation Pipeline is defined as an array of different operations\n",
    "[\n",
    "# The first stage in this pipe is to group data\n",
    "{ '$group':\n",
    "    { '_id': \"$cuisine\",\n",
    "     \"count\" : \n",
    "                 { '$sum' :1 }\n",
    "    }\n",
    "},\n",
    "# The second stage in this pipe is to sort the data\n",
    "{\"$sort\":  { \"_id\":1}\n",
    "}\n",
    "# Close the array with the ] tag             \n",
    "] )"
   ]
  },
  {
   "cell_type": "code",
   "execution_count": null,
   "metadata": {},
   "outputs": [],
   "source": [
    "for group in cuisinegroup:\n",
    "    print(group)"
   ]
  },
  {
   "cell_type": "code",
   "execution_count": null,
   "metadata": {},
   "outputs": [],
   "source": []
  }
 ],
 "metadata": {
  "kernelspec": {
   "display_name": "Python 3",
   "language": "python",
   "name": "python3"
  },
  "language_info": {
   "codemirror_mode": {
    "name": "ipython",
    "version": 3
   },
   "file_extension": ".py",
   "mimetype": "text/x-python",
   "name": "python",
   "nbconvert_exporter": "python",
   "pygments_lexer": "ipython3",
   "version": "3.6.4"
  }
 },
 "nbformat": 4,
 "nbformat_minor": 2
}
