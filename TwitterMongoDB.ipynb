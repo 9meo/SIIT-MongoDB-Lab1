{
 "cells": [
  {
   "cell_type": "code",
   "execution_count": null,
   "metadata": {},
   "outputs": [],
   "source": [
    "import tweepy\n",
    "import json\n",
    "from pymongo import MongoClient"
   ]
  },
  {
   "cell_type": "code",
   "execution_count": null,
   "metadata": {},
   "outputs": [],
   "source": [
    "client = MongoClient(port=27017)\n",
    "db=client.twitter"
   ]
  },
  {
   "cell_type": "code",
   "execution_count": null,
   "metadata": {},
   "outputs": [],
   "source": [
    "WORDS = ['#bigdata', '#AI', '#datascience', '#machinelearning', '#ml', '#iot']"
   ]
  },
  {
   "cell_type": "code",
   "execution_count": null,
   "metadata": {},
   "outputs": [],
   "source": [
    "consumer_key = ''\n",
    "consumer_secret = ''\n",
    "access_token = ''\n",
    "access_token_secret = ''"
   ]
  },
  {
   "cell_type": "code",
   "execution_count": null,
   "metadata": {},
   "outputs": [],
   "source": [
    "class StreamListener(tweepy.StreamListener):    \n",
    "    #This is a class provided by tweepy to access the Twitter Streaming API. \n",
    "\n",
    "    def on_connect(self):\n",
    "        # Called initially to connect to the Streaming API\n",
    "        print(\"You are now connected to the streaming API.\")\n",
    " \n",
    "    def on_error(self, status_code):\n",
    "        # On error - if an error occurs, display the error / status code\n",
    "        print('An Error has occured: ' + repr(status_code))\n",
    "        return False\n",
    "     \n",
    "     \n",
    "    def on_data(self, data):\n",
    "        #This is the meat of the script...it connects to your mongoDB and stores the tweet\n",
    "        try:\n",
    "             \n",
    "            \n",
    "            # Use twitterdb database. If it doesn't exist, it will be created.\n",
    "             \n",
    "    \n",
    "            # Decode the JSON from Twitter\n",
    "            datajson = json.loads(data)\n",
    "            text=''\n",
    "            if 'retweeted_status' in datajson:\n",
    "                if 'extended_tweet' in datajson['retweeted_status']:\n",
    "                    text = datajson['retweeted_status']['extended_tweet']['full_text']\n",
    "                else:\n",
    "                    text = datajson['retweeted_status']['text']\n",
    "            elif 'quoted_status' in datajson:\n",
    "                if 'extended_tweet' in datajson['quoted_status']:\n",
    "                    text = datajson['quoted_status']['extended_tweet']['full_text']\n",
    "                else:\n",
    "                    text = datajson['text']\n",
    "            if text=='':\n",
    "                text = datajson['text']\n",
    "            \n",
    "            #grab the 'created_at' data from the Tweet to use for display\n",
    "            created_at = datajson['created_at']\n",
    "\n",
    "            #print out a message to the screen that we have collected a tweet\n",
    "            print(\"Tweet collected at \" + str(created_at))\n",
    "            hashtag=[]\n",
    "            for h in datajson['entities']['hashtags']:\n",
    "                hashtag.append(h['text'])\n",
    "            res={}\n",
    "            res['text']=text\n",
    "            res['created_at']=created_at\n",
    "            res['_id'] = datajson['id_str']\n",
    "            res['postid'] = datajson['id']\n",
    "            res['link']= 'https://twitter.com/' + datajson['user']['screen_name'] + '/status/'+ datajson['id_str']\n",
    "            res['postauthor']= datajson['user']['name']\n",
    "            res['userid']= str(datajson['user']['id'])\n",
    "            res['hashtag'] = [tag for tag in text.split() if tag.startswith('#')]\n",
    "            #insert the data into the mongoDB into a collection called twitter_search\n",
    "            #if twitter_search doesn't exist, it will be created.\n",
    "            \n",
    "            #print(datajson)\n",
    "            db.tweets.insert_one(res)\n",
    "        except Exception as e:\n",
    "           print(e)"
   ]
  },
  {
   "cell_type": "code",
   "execution_count": null,
   "metadata": {},
   "outputs": [],
   "source": [
    "auth = tweepy.OAuthHandler(consumer_key, consumer_secret)\n",
    "auth.set_access_token(access_token, access_token_secret)\n",
    "#Set up the listener. The 'wait_on_rate_limit=True' is needed to help with Twitter API rate limiting.\n",
    "listener = StreamListener(api=tweepy.API(wait_on_rate_limit=True)) \n",
    "streamer = tweepy.Stream(auth=auth, listener=listener)\n",
    "print(\"Tracking: \" + str(WORDS))\n",
    "streamer.filter(track=WORDS)"
   ]
  },
  {
   "cell_type": "code",
   "execution_count": null,
   "metadata": {},
   "outputs": [],
   "source": []
  }
 ],
 "metadata": {
  "kernelspec": {
   "display_name": "Python 3",
   "language": "python",
   "name": "python3"
  },
  "language_info": {
   "codemirror_mode": {
    "name": "ipython",
    "version": 3
   },
   "file_extension": ".py",
   "mimetype": "text/x-python",
   "name": "python",
   "nbconvert_exporter": "python",
   "pygments_lexer": "ipython3",
   "version": "3.6.4"
  }
 },
 "nbformat": 4,
 "nbformat_minor": 2
}
